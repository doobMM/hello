{
  "nbformat": 4,
  "nbformat_minor": 0,
  "metadata": {
    "colab": {
      "provenance": [],
      "authorship_tag": "ABX9TyOVGaJM44MenpWRiCdvgPMC",
      "include_colab_link": true
    },
    "kernelspec": {
      "name": "python3",
      "display_name": "Python 3"
    },
    "language_info": {
      "name": "python"
    }
  },
  "cells": [
    {
      "cell_type": "markdown",
      "metadata": {
        "id": "view-in-github",
        "colab_type": "text"
      },
      "source": [
        "<a href=\"https://colab.research.google.com/github/doobMM/hello/blob/master/coteDB_TF_24_07_WK4.ipynb\" target=\"_parent\"><img src=\"https://colab.research.google.com/assets/colab-badge.svg\" alt=\"Open In Colab\"/></a>"
      ]
    },
    {
      "cell_type": "code",
      "source": [
        "cost = tf.reduce_mean(tf.square(hypothesis - y_data))"
      ],
      "metadata": {
        "id": "Lpg4GaEkU--4"
      },
      "execution_count": null,
      "outputs": []
    },
    {
      "cell_type": "code",
      "source": [
        "import tensorflow as tf\n",
        "#tf.enable_eager_execution()\n",
        "\n",
        "# Data\n",
        "x_data = [1, 2, 3, 4, 5]\n",
        "y_data = [1, 2, 3, 4, 5]\n",
        "\n",
        "# W, b initialize\n",
        "W = tf.Variable(2.9)\n",
        "b = tf.Variable(0.5)\n",
        "\n",
        "learning_rate = 0.01\n",
        "\n",
        "for i in range(100+1): # W, b update\n",
        " # Gradient descent\n",
        "  with tf.GradientTape() as tape:\n",
        "    hypothesis = W * x_data + b\n",
        "    cost = tf.reduce_mean(tf.square(hypothesis - y_data))\n",
        "    W_grad, b_grad = tape.gradient(cost, [W, b])\n",
        "    W.assign_sub(learning_rate * W_grad)\n",
        "    b.assign_sub(learning_rate * b_grad)\n",
        "    if i % 10 == 0:\n",
        "      print(\"{:5}|{:10.4f}|{:10.4}|{:10.6f}\".format(i, W.numpy(), b.numpy(), cost))"
      ],
      "metadata": {
        "colab": {
          "base_uri": "https://localhost:8080/"
        },
        "id": "1NNyRmCTWvJf",
        "outputId": "b4f80501-910c-4d0f-ae84-10432ccd23d9"
      },
      "execution_count": null,
      "outputs": [
        {
          "output_type": "stream",
          "name": "stdout",
          "text": [
            "    0|    2.4520|     0.376| 45.660004\n",
            "   10|    1.1036|  0.003398|  0.206336\n",
            "   20|    1.0128|  -0.02091|  0.001026\n",
            "   30|    1.0065|  -0.02184|  0.000093\n",
            "   40|    1.0059|  -0.02123|  0.000083\n",
            "   50|    1.0057|  -0.02053|  0.000077\n",
            "   60|    1.0055|  -0.01984|  0.000072\n",
            "   70|    1.0053|  -0.01918|  0.000067\n",
            "   80|    1.0051|  -0.01854|  0.000063\n",
            "   90|    1.0050|  -0.01793|  0.000059\n",
            "  100|    1.0048|  -0.01733|  0.000055\n"
          ]
        }
      ]
    },
    {
      "cell_type": "code",
      "source": [
        "\"\"\" cost function in pure python \"\"\"\n",
        "\n",
        "import numpy as np\n",
        "X = np.array([1, 2, 3])\n",
        "Y = np.array([1, 2, 3])\n",
        "\n",
        "def cost_func(W, X, Y):\n",
        " c = 0\n",
        " for i in range(len(X)):\n",
        "   c += (W * X[i] - Y[i]) ** 2\n",
        " return c / len(X)\n",
        "\n",
        "for feed_W in np.linspace(-3, 5, num=15):\n",
        " curr_cost = cost_func(feed_W, X, Y)\n",
        " print(\"{:6.3f} | {:10.5f}\".format(feed_W, curr_cost))\n"
      ],
      "metadata": {
        "colab": {
          "base_uri": "https://localhost:8080/"
        },
        "id": "aDp7xYs-Y_4g",
        "outputId": "57c39431-83f0-4360-8748-fa54d1a99340"
      },
      "execution_count": null,
      "outputs": [
        {
          "output_type": "stream",
          "name": "stdout",
          "text": [
            "-3.000 |   74.66667\n",
            "-2.429 |   54.85714\n",
            "-1.857 |   38.09524\n",
            "-1.286 |   24.38095\n",
            "-0.714 |   13.71429\n",
            "-0.143 |    6.09524\n",
            " 0.429 |    1.52381\n",
            " 1.000 |    0.00000\n",
            " 1.571 |    1.52381\n",
            " 2.143 |    6.09524\n",
            " 2.714 |   13.71429\n",
            " 3.286 |   24.38095\n",
            " 3.857 |   38.09524\n",
            " 4.429 |   54.85714\n",
            " 5.000 |   74.66667\n"
          ]
        }
      ]
    },
    {
      "cell_type": "code",
      "source": [
        "\"\"\" cost fnc in tf \"\"\"\n",
        "X = np.array([1, 2, 3])\n",
        "Y = np.array([1, 2, 3])\n",
        "\n",
        "def cost_func(W, X, Y):\n",
        " hypothesis = X * W\n",
        " return tf.reduce_mean(tf.square(hypothesis - Y))\n",
        "\n",
        "W_values = np.linspace(-3, 5, num=15)\n",
        "cost_values = []\n",
        "\n",
        "for feed_W in W_values:\n",
        " curr_cost = cost_func(feed_W, X, Y)\n",
        " cost_values.append(curr_cost)\n",
        " print(\"{:6.3f} | {:10.5f}\".format(feed_W, curr_cost))"
      ],
      "metadata": {
        "colab": {
          "base_uri": "https://localhost:8080/"
        },
        "id": "eeerzuv6ZPy4",
        "outputId": "1bd5aa51-7aa1-4a92-a753-c66a0a7e7b01"
      },
      "execution_count": null,
      "outputs": [
        {
          "output_type": "stream",
          "name": "stdout",
          "text": [
            "-3.000 |   74.66667\n",
            "-2.429 |   54.85714\n",
            "-1.857 |   38.09524\n",
            "-1.286 |   24.38095\n",
            "-0.714 |   13.71429\n",
            "-0.143 |    6.09524\n",
            " 0.429 |    1.52381\n",
            " 1.000 |    0.00000\n",
            " 1.571 |    1.52381\n",
            " 2.143 |    6.09524\n",
            " 2.714 |   13.71429\n",
            " 3.286 |   24.38095\n",
            " 3.857 |   38.09524\n",
            " 4.429 |   54.85714\n",
            " 5.000 |   74.66667\n"
          ]
        }
      ]
    },
    {
      "cell_type": "code",
      "source": [
        "#tf.set_random_seed(0) # for reproducibility\n",
        "\n",
        "x_data = [1., 2., 3., 4.]\n",
        "y_data = [1., 3., 5., 7.]\n",
        "\n",
        "#W = tf.Variable(tf.random_normal([1], -100., 100.))\n",
        "W = tf.Variable([5.0])\n",
        "\n",
        "for step in range(300):\n",
        "  hypothesis = W * X\n",
        "  cost = tf.reduce_mean(tf.square(hypothesis - Y))\n",
        "  alpha = 0.01\n",
        "  gradient = tf.reduce_mean(tf.multiply(tf.multiply(W, X) - Y, X))\n",
        "  descent = W - tf.multiply(alpha, gradient)\n",
        "  W.assign(descent)\n",
        "\n",
        "  if step % 10 == 0:\n",
        "    print('{:5} | {:10.4f} | {:10.6f}'.format(step, cost.numpy(), W.numpy()[0]))\n",
        "    #print(W.numpy())"
      ],
      "metadata": {
        "colab": {
          "base_uri": "https://localhost:8080/"
        },
        "id": "KcHUjOD9acjP",
        "outputId": "0b799193-369d-4001-f2e4-e51b359e1db9"
      },
      "execution_count": null,
      "outputs": [
        {
          "output_type": "stream",
          "name": "stdout",
          "text": [
            "    0 |    74.6667 |   4.813334\n",
            "   10 |    28.7093 |   3.364572\n",
            "   20 |    11.0387 |   2.466224\n",
            "   30 |     4.2444 |   1.909177\n",
            "   40 |     1.6320 |   1.563762\n",
            "   50 |     0.6275 |   1.349578\n",
            "   60 |     0.2413 |   1.216766\n",
            "   70 |     0.0928 |   1.134412\n",
            "   80 |     0.0357 |   1.083346\n",
            "   90 |     0.0137 |   1.051681\n",
            "  100 |     0.0053 |   1.032047\n",
            "  110 |     0.0020 |   1.019871\n",
            "  120 |     0.0008 |   1.012322\n",
            "  130 |     0.0003 |   1.007641\n",
            "  140 |     0.0001 |   1.004738\n",
            "  150 |     0.0000 |   1.002938\n",
            "  160 |     0.0000 |   1.001822\n",
            "  170 |     0.0000 |   1.001130\n",
            "  180 |     0.0000 |   1.000700\n",
            "  190 |     0.0000 |   1.000434\n",
            "  200 |     0.0000 |   1.000269\n",
            "  210 |     0.0000 |   1.000167\n",
            "  220 |     0.0000 |   1.000103\n",
            "  230 |     0.0000 |   1.000064\n",
            "  240 |     0.0000 |   1.000040\n",
            "  250 |     0.0000 |   1.000025\n",
            "  260 |     0.0000 |   1.000015\n",
            "  270 |     0.0000 |   1.000009\n",
            "  280 |     0.0000 |   1.000006\n",
            "  290 |     0.0000 |   1.000004\n"
          ]
        }
      ]
    },
    {
      "cell_type": "code",
      "source": [
        "# data and label\n",
        "x1 = [ 73., 93., 89., 96., 73.]\n",
        "x2 = [ 80., 88., 91., 98., 66.]\n",
        "x3 = [ 75., 93., 90., 100., 70.]\n",
        "Y = [152., 185., 180., 196., 142.]\n",
        "\n",
        "\"\"\"\n",
        "# random weights\n",
        "w1 = tf.Variable(tf.random_normal([1]))\n",
        "w2 = tf.Variable(tf.random_normal([1]))\n",
        "w3 = tf.Variable(tf.random_normal([1]))\n",
        "b = tf.Variable(tf.random_normal([1]))\n",
        "\"\"\"\n",
        "w1 = tf.Variable(10.)\n",
        "w2 = tf.Variable(10.)\n",
        "w3 = tf.Variable(10.)\n",
        "b = tf.Variable(10.)\n",
        "\n",
        "learning_rate = 0.000001\n",
        "\n",
        "for i in range(1000+1):\n",
        "  # tf.GradientTape() to record the gradient of the cost function\n",
        "  with tf.GradientTape() as tape:\n",
        "    hypothesis = w1 * x1 + w2 * x2 + w3 * x3 + b\n",
        "    cost = tf.reduce_mean(tf.square(hypothesis - Y))\n",
        "\n",
        "    # calculates the gradients of the cost\n",
        "    w1_grad, w2_grad, w3_grad, b_grad = tape.gradient(cost, [w1, w2, w3, b])\n",
        "\n",
        "    # update w1,w2,w3 and b\n",
        "    w1.assign_sub(learning_rate * w1_grad)\n",
        "    w2.assign_sub(learning_rate * w2_grad)\n",
        "    w3.assign_sub(learning_rate * w3_grad)\n",
        "    b.assign_sub(learning_rate * b_grad)\n",
        "    if i % 50 == 0:\n",
        "      print(\"{:5} | {:12.4f}\".format(i, cost.numpy()))"
      ],
      "metadata": {
        "colab": {
          "base_uri": "https://localhost:8080/"
        },
        "id": "zFxb6LC5cU0A",
        "outputId": "284c1a08-8f23-484d-8fe6-71d1fb620299"
      },
      "execution_count": null,
      "outputs": [
        {
          "output_type": "stream",
          "name": "stdout",
          "text": [
            "    0 | 5793889.5000\n",
            "   50 |   64291.1562\n",
            "  100 |     715.2903\n",
            "  150 |       9.8461\n",
            "  200 |       2.0152\n",
            "  250 |       1.9252\n",
            "  300 |       1.9210\n",
            "  350 |       1.9177\n",
            "  400 |       1.9145\n",
            "  450 |       1.9114\n",
            "  500 |       1.9081\n",
            "  550 |       1.9050\n",
            "  600 |       1.9018\n",
            "  650 |       1.8986\n",
            "  700 |       1.8955\n",
            "  750 |       1.8923\n",
            "  800 |       1.8892\n",
            "  850 |       1.8861\n",
            "  900 |       1.8829\n",
            "  950 |       1.8798\n",
            " 1000 |       1.8767\n"
          ]
        }
      ]
    },
    {
      "cell_type": "code",
      "source": [
        "data = np.array([\n",
        " # X1, X2, X3, y\n",
        " [ 73., 80., 75., 152. ],\n",
        " [ 93., 88., 93., 185. ],\n",
        " [ 89., 91., 90., 180. ],\n",
        " [ 96., 98., 100., 196. ],\n",
        " [ 73., 66., 70., 142. ]\n",
        "], dtype=np.float32)\n",
        "\n",
        "# slice data\n",
        "X = data[:, :-1]\n",
        "y = data[:, [-1]]\n",
        "\n",
        "W = tf.Variable(tf.random.normal([3, 1]))\n",
        "b = tf.Variable(tf.random.normal([1]))\n",
        "\n",
        "learning_rate = 0.000001\n",
        "\n",
        "# hypothesis, prediction function\n",
        "def predict(X):\n",
        " return tf.matmul(X, W) + b\n",
        "\n",
        "n_epochs = 2000\n",
        "for i in range(n_epochs+1):\n",
        " # record the gradient of the cost function\n",
        "\n",
        " with tf.GradientTape() as tape:\n",
        "  cost = tf.reduce_mean((tf.square(predict(X) - y)))\n",
        "\n",
        "  # calculates the gradients of the loss\n",
        "  W_grad, b_grad = tape.gradient(cost, [W, b])\n",
        "\n",
        "  # updates parameters (W and b)\n",
        "  W.assign_sub(learning_rate * W_grad)\n",
        "  b.assign_sub(learning_rate * b_grad)\n",
        "\n",
        "  if i % 100 == 0:\n",
        "    print(\"{:5} | {:10.4f}\".format(i, cost.numpy()))"
      ],
      "metadata": {
        "colab": {
          "base_uri": "https://localhost:8080/"
        },
        "id": "Z5AY034hdbPX",
        "outputId": "0ad3491e-7f66-499b-bbc1-486bbe489f21"
      },
      "execution_count": null,
      "outputs": [
        {
          "output_type": "stream",
          "name": "stdout",
          "text": [
            "    0 | 47243.8945\n",
            "  100 |     6.4655\n",
            "  200 |     0.6485\n",
            "  300 |     0.6467\n",
            "  400 |     0.6456\n",
            "  500 |     0.6446\n",
            "  600 |     0.6436\n",
            "  700 |     0.6425\n",
            "  800 |     0.6415\n",
            "  900 |     0.6405\n",
            " 1000 |     0.6395\n",
            " 1100 |     0.6384\n",
            " 1200 |     0.6374\n",
            " 1300 |     0.6364\n",
            " 1400 |     0.6354\n",
            " 1500 |     0.6345\n",
            " 1600 |     0.6335\n",
            " 1700 |     0.6325\n",
            " 1800 |     0.6315\n",
            " 1900 |     0.6305\n",
            " 2000 |     0.6296\n"
          ]
        }
      ]
    },
    {
      "cell_type": "code",
      "source": [
        "# Lab-05-2 로지스틱 회귀\n",
        "\n",
        "import tensorflow.contrib.eager as tfe # No module named 'tensorflow.contrib'\n",
        "\n",
        "tf.enable_eager_execution()\n",
        "\n",
        "dataset = tf.data.Dataset.from_tensor_slices((x_train, y_train)).batch(len(x_train))\n",
        "W = tf.Variable(tf.zeros([2,1]), name='weight')\n",
        "b = tf.Variable(tf.zeros([1]), name='bias')\n",
        "\n",
        "def logistic_regression(features):\n",
        " hypothesis = tf.div(1., 1. + tf.exp(tf.matmul(features, W) + b))\n",
        " return hypothesis\n",
        "\n",
        "def loss_fn(hypothesis, labels):\n",
        " cost = -tf.reduce_mean(labels * tf.log(loss_fn(hypothesis) + (1 - labels) * tf.log(1 - hypothesis)))\n",
        " return cost\n",
        "\n",
        "def grad(hypothesis, features, labels):\n",
        " with tf.GradientTape() as tape:\n",
        "   loss_value = loss_fn(hypothesis,labels)\n",
        " return tape.gradient(loss_value, [W,b])\n",
        "\n",
        "optimizer = tf.train.GradientDescentOptimizer(learning_rate=0.01)\n",
        "for step in range(EPOCHS):\n",
        " for features, labels in tfe.Iterator(dataset):\n",
        "  grads = grad(logistic_regression(features), features, labels)\n",
        "  optimizer.apply_gradients(grads_and_vars=zip(grads,[W,b]))\n",
        "  if step % 100 == 0:\n",
        "    print(\"Iter: {}, Loss: {:.4f}\".format(step, loss_fn(logistic_regression(features) ,labels)))\n",
        "\n",
        "def accuracy_fn(hypothesis, labels):\n",
        " predicted = tf.cast(hypothesis > 0.5, dtype=tf.float32)\n",
        " accuracy = tf.reduce_mean(tf.cast(tf.equal(predicted, labels), dtype=tf.int32))\n",
        " return accuracy\n",
        "\n",
        "test_acc = accuracy_fn(logistic_regression(x_test),y_test)"
      ],
      "metadata": {
        "colab": {
          "base_uri": "https://localhost:8080/",
          "height": 414
        },
        "id": "RQ5E_386ieLu",
        "outputId": "105d3853-dbef-421d-fe95-3b80c66ad7fb"
      },
      "execution_count": null,
      "outputs": [
        {
          "output_type": "error",
          "ename": "ModuleNotFoundError",
          "evalue": "No module named 'tensorflow.contrib'",
          "traceback": [
            "\u001b[0;31m---------------------------------------------------------------------------\u001b[0m",
            "\u001b[0;31mModuleNotFoundError\u001b[0m                       Traceback (most recent call last)",
            "\u001b[0;32m<ipython-input-32-195fd4408cfd>\u001b[0m in \u001b[0;36m<cell line: 3>\u001b[0;34m()\u001b[0m\n\u001b[1;32m      1\u001b[0m \u001b[0;31m# Lab-05-2 로지스틱 회귀\u001b[0m\u001b[0;34m\u001b[0m\u001b[0;34m\u001b[0m\u001b[0m\n\u001b[1;32m      2\u001b[0m \u001b[0;34m\u001b[0m\u001b[0m\n\u001b[0;32m----> 3\u001b[0;31m \u001b[0;32mimport\u001b[0m \u001b[0mtensorflow\u001b[0m\u001b[0;34m.\u001b[0m\u001b[0mcontrib\u001b[0m\u001b[0;34m.\u001b[0m\u001b[0meager\u001b[0m \u001b[0;32mas\u001b[0m \u001b[0mtfe\u001b[0m\u001b[0;34m\u001b[0m\u001b[0;34m\u001b[0m\u001b[0m\n\u001b[0m\u001b[1;32m      4\u001b[0m \u001b[0mtf\u001b[0m\u001b[0;34m.\u001b[0m\u001b[0menable_eager_execution\u001b[0m\u001b[0;34m(\u001b[0m\u001b[0;34m)\u001b[0m\u001b[0;34m\u001b[0m\u001b[0;34m\u001b[0m\u001b[0m\n\u001b[1;32m      5\u001b[0m \u001b[0;34m\u001b[0m\u001b[0m\n",
            "\u001b[0;31mModuleNotFoundError\u001b[0m: No module named 'tensorflow.contrib'",
            "",
            "\u001b[0;31m---------------------------------------------------------------------------\u001b[0;32m\nNOTE: If your import is failing due to a missing package, you can\nmanually install dependencies using either !pip or !apt.\n\nTo view examples of installing some common dependencies, click the\n\"Open Examples\" button below.\n\u001b[0;31m---------------------------------------------------------------------------\u001b[0m\n"
          ],
          "errorDetails": {
            "actions": [
              {
                "action": "open_url",
                "actionText": "Open Examples",
                "url": "/notebooks/snippets/importing_libraries.ipynb"
              }
            ]
          }
        }
      ]
    },
    {
      "cell_type": "code",
      "source": [
        "\"\"\"\n",
        "240724\n",
        "\"\"\""
      ],
      "metadata": {
        "id": "Medmh9P4mWmV"
      },
      "execution_count": null,
      "outputs": []
    },
    {
      "cell_type": "code",
      "source": [
        "import numpy as np\n",
        "import matplotlib.pyplot as plt\n",
        "%matplotlib inline\n",
        "import tensorflow as tf\n",
        "\n",
        "tf.random.set_seed(777)  # for reproducibility\n",
        "print(tf.__version__)"
      ],
      "metadata": {
        "colab": {
          "base_uri": "https://localhost:8080/"
        },
        "id": "YmYJRplNmLWl",
        "outputId": "66f490eb-b440-4bdb-fee8-5ef1fdb3f7a4"
      },
      "execution_count": null,
      "outputs": [
        {
          "output_type": "stream",
          "name": "stdout",
          "text": [
            "2.15.0\n"
          ]
        }
      ]
    },
    {
      "cell_type": "markdown",
      "source": [
        "* x_data가 2차원 배열이기에 2차원 공간에 표현하여 x1과 x2를 기준으로 y_data 0과 1로 구분하는 예제입니다\n",
        "* Logistic Classification 통해 보라색과 노란색 y_data(Label)을 구분해 보겠습니다.\n",
        "* Test 데이터는 붉은색의 위치와 같이 추론시 1의 값을 가지게 됩니다."
      ],
      "metadata": {
        "id": "Oc5Su_Ppm_Pk"
      }
    },
    {
      "cell_type": "code",
      "source": [
        "x_train = [[1., 2.],\n",
        "          [2., 3.],\n",
        "          [3., 1.],\n",
        "          [4., 3.],\n",
        "          [5., 3.],\n",
        "          [6., 2.]]\n",
        "y_train = [[0.],\n",
        "          [0.],\n",
        "          [0.],\n",
        "          [1.],\n",
        "          [1.],\n",
        "          [1.]]\n",
        "\n",
        "x_test = [[5.,2.]]\n",
        "y_test = [[1.]]\n",
        "\n",
        "\n",
        "x1 = [x[0] for x in x_train]\n",
        "x2 = [x[1] for x in x_train]\n",
        "\n",
        "colors = [int(y[0] % 2) for y in y_train]\n",
        "plt.scatter(x1,x2, c=colors , marker='^')\n",
        "plt.scatter(x_test[0][0],x_test[0][1], c=\"red\")\n",
        "\n",
        "plt.xlabel(\"x1\")\n",
        "plt.ylabel(\"x2\")\n",
        "plt.show()"
      ],
      "metadata": {
        "colab": {
          "base_uri": "https://localhost:8080/",
          "height": 449
        },
        "id": "RMOkLJrqmZKz",
        "outputId": "0b7e2502-1677-4af9-a7e9-29cb14812cdd"
      },
      "execution_count": null,
      "outputs": [
        {
          "output_type": "display_data",
          "data": {
            "text/plain": [
              "<Figure size 640x480 with 1 Axes>"
            ],
            "image/png": "[encoded data removed]"
          },
          "metadata": {}
        }
      ]
    },
    {
      "cell_type": "code",
      "source": [
        "dataset = tf.data.Dataset.from_tensor_slices((x_train, y_train)).batch(len(x_train))#.repeat()"
      ],
      "metadata": {
        "id": "jkrIgQyAnNQp"
      },
      "execution_count": null,
      "outputs": []
    },
    {
      "cell_type": "markdown",
      "source": [
        "* W와 b은 학습을 통해 생성되는 모델에 쓰이는 Weight와 Bias (초기값을 variable : 0이나 Random값으로 가능 tf.random_normal([2, 1]) )"
      ],
      "metadata": {
        "id": "pXdZ30zJnT2K"
      }
    },
    {
      "cell_type": "code",
      "source": [
        "W = tf.Variable(tf.zeros([2,1]), name='weight')\n",
        "b = tf.Variable(tf.zeros([1]), name='bias')"
      ],
      "metadata": {
        "id": "eHsOntYYnYLd"
      },
      "execution_count": null,
      "outputs": []
    },
    {
      "cell_type": "markdown",
      "source": [
        "* sigmoid라고도 부르고 logistic이라고도 부른다, 아래 함수는. 0과 1사이로 압축하는 데 사용한다."
      ],
      "metadata": {
        "id": "24JM955jpjRn"
      }
    },
    {
      "cell_type": "code",
      "source": [
        "def logistic_regression(features):\n",
        "    hypothesis  = tf.divide(1., 1. + tf.exp(tf.matmul(features, W) + b))\n",
        "    return hypothesis"
      ],
      "metadata": {
        "id": "a9MGZW3_nggW"
      },
      "execution_count": null,
      "outputs": []
    },
    {
      "cell_type": "code",
      "source": [
        "def loss_fn(hypothesis, labels):\n",
        "    cost = -tf.reduce_mean(labels * tf.math.log(hypothesis) + (1 - labels) * tf.math.log(1 - hypothesis))\n",
        "    return cost\n",
        "\n",
        "optimizer = tf.keras.optimizers.SGD(learning_rate=0.01)"
      ],
      "metadata": {
        "id": "w8mQfsa_nraq"
      },
      "execution_count": null,
      "outputs": []
    },
    {
      "cell_type": "markdown",
      "source": [
        "* Sigmoid 함수를 통해 예측값이 0.5보다 크면 1을 반환하고 0.5보다 작으면 0으로 반환합니다.\n",
        "* 가설을 통해 실재 값과 비교한 정확도를 측정합니다"
      ],
      "metadata": {
        "id": "ulb0KYgjn8vW"
      }
    },
    {
      "cell_type": "code",
      "source": [
        "def accuracy_fn(hypothesis, labels):\n",
        "    predicted = tf.cast(hypothesis > 0.5, dtype=tf.float32)\n",
        "    accuracy = tf.reduce_mean(tf.cast(tf.equal(predicted, labels), dtype=tf.int32))\n",
        "    return accuracy"
      ],
      "metadata": {
        "id": "pjcmpO_XoCb1"
      },
      "execution_count": null,
      "outputs": []
    },
    {
      "cell_type": "markdown",
      "source": [
        "* GradientTape를 통해 경사값을 계산합니다."
      ],
      "metadata": {
        "id": "w3Q1EkFNokDG"
      }
    },
    {
      "cell_type": "code",
      "source": [
        "def grad(features, labels):\n",
        "    with tf.GradientTape() as tape:\n",
        "        loss_value = loss_fn(logistic_regression(features),labels)\n",
        "    return tape.gradient(loss_value, [W,b])"
      ],
      "metadata": {
        "id": "A_DXEeD3oliS"
      },
      "execution_count": null,
      "outputs": []
    },
    {
      "cell_type": "markdown",
      "source": [
        "* 위의 Data를 Cost함수를 통해 학습시킨 후 모델을 생성합니다.\n",
        "* 새로운 Data를 통한 검증 수행 [5,2]의 Data로 테스트 수행 (그래프상 1이 나와야 정상입니다)"
      ],
      "metadata": {
        "id": "LFgJeHmvowgg"
      }
    },
    {
      "cell_type": "code",
      "source": [
        "EPOCHS = 1001\n",
        "\n",
        "for step in range(EPOCHS):\n",
        "    for features, labels  in iter(dataset):\n",
        "        grads = grad(features, labels)\n",
        "        optimizer.apply_gradients(grads_and_vars=zip(grads,[W,b]))\n",
        "        if step % 100 == 0:\n",
        "            print(\"Iter: {}, Loss: {:.4f}\".format(step, loss_fn(logistic_regression(features), labels)))\n",
        "test_acc = accuracy_fn(logistic_regression(x_test),y_test)\n",
        "print(\"Testset Accuracy: {:.4f}\".format(test_acc))"
      ],
      "metadata": {
        "colab": {
          "base_uri": "https://localhost:8080/"
        },
        "id": "-3xW-aagov7b",
        "outputId": "d1f5f507-0275-4f78-9002-1194a801e2cd"
      },
      "execution_count": null,
      "outputs": [
        {
          "output_type": "stream",
          "name": "stdout",
          "text": [
            "Iter: 0, Loss: 0.6821\n",
            "Iter: 100, Loss: 0.5770\n",
            "Iter: 200, Loss: 0.5345\n",
            "Iter: 300, Loss: 0.5052\n",
            "Iter: 400, Loss: 0.4836\n",
            "Iter: 500, Loss: 0.4670\n",
            "Iter: 600, Loss: 0.4534\n",
            "Iter: 700, Loss: 0.4419\n",
            "Iter: 800, Loss: 0.4318\n",
            "Iter: 900, Loss: 0.4227\n",
            "Iter: 1000, Loss: 0.4143\n",
            "Testset Accuracy: 1.0000\n"
          ]
        }
      ]
    },
    {
      "cell_type": "markdown",
      "source": [
        "# * Lab 06-1\n",
        "- 복습 필요, 원리는 조금 이해했지만 세부적인 표현형에 익숙치 않음"
      ],
      "metadata": {
        "id": "ksM_S9xWuIEw"
      }
    },
    {
      "cell_type": "code",
      "source": [
        "x_data = [[1, 2, 1, 1],\n",
        " [2, 1, 3, 2],\n",
        " [3, 1, 3, 4],\n",
        " [4, 1, 5, 5],\n",
        " [1, 7, 5, 5],\n",
        " [1, 2, 5, 6],\n",
        " [1, 6, 6, 6],\n",
        " [1, 7, 7, 7]]\n",
        "y_data = [[0, 0, 1],\n",
        " [0, 0, 1],\n",
        " [0, 0, 1],\n",
        " [0, 1, 0],\n",
        " [0, 1, 0],\n",
        " [0, 1, 0],\n",
        " [1, 0, 0],\n",
        " [1, 0, 0]]"
      ],
      "metadata": {
        "id": "j0jgI6fLuLhm"
      },
      "execution_count": null,
      "outputs": []
    },
    {
      "cell_type": "code",
      "source": [
        "#convert into numpy and float format\n",
        "x_data = np.asarray(x_data, dtype=np.float32)\n",
        "y_data = np.asarray(y_data, dtype=np.float32)\n",
        "nb_classes = 3 #num classes"
      ],
      "metadata": {
        "id": "JPJnLsiauWhV"
      },
      "execution_count": null,
      "outputs": []
    },
    {
      "cell_type": "code",
      "source": [
        "#Weight and bias setting\n",
        "W = tf.Variable(tf.random.normal([4, nb_classes]), name='weight')\n",
        "b = tf.Variable(tf.random.normal([nb_classes]), name='bias')\n",
        "variables = [W, b]"
      ],
      "metadata": {
        "id": "95mP-aXsugMP"
      },
      "execution_count": null,
      "outputs": []
    },
    {
      "cell_type": "code",
      "source": [
        "print(variables)"
      ],
      "metadata": {
        "colab": {
          "base_uri": "https://localhost:8080/"
        },
        "id": "CI4oY4Whu4Pm",
        "outputId": "1ffc4211-4a1c-40cd-d3c2-f36402024d78"
      },
      "execution_count": null,
      "outputs": [
        {
          "output_type": "stream",
          "name": "stdout",
          "text": [
            "[<tf.Variable 'weight:0' shape=(4, 3) dtype=float32, numpy=\n",
            "array([[-2.7697366e-01, -2.3162541e+00,  1.4861290e+00],\n",
            "       [-1.1312336e+00, -1.1059969e-01,  1.1424177e+00],\n",
            "       [-7.9997230e-01, -2.2132940e+00,  1.0443608e+00],\n",
            "       [ 1.5469295e+00, -6.0123701e-02,  6.6931121e-04]], dtype=float32)>, <tf.Variable 'bias:0' shape=(3,) dtype=float32, numpy=array([0.9083067, 1.7801584, 0.2447134], dtype=float32)>]\n"
          ]
        }
      ]
    },
    {
      "cell_type": "code",
      "source": [
        "# Softmax onehot test\n",
        "sample_db = [[8,2,1,4]]\n",
        "sample_db = np.asarray(sample_db, dtype=np.float32)"
      ],
      "metadata": {
        "colab": {
          "base_uri": "https://localhost:8080/"
        },
        "id": "1_Dagv7tvMue",
        "outputId": "d1b61fd3-9ba9-4ee1-f2cb-81e5bea1a110"
      },
      "execution_count": null,
      "outputs": [
        {
          "output_type": "stream",
          "name": "stdout",
          "text": [
            "[[8. 2. 1. 4.]]\n"
          ]
        }
      ]
    },
    {
      "cell_type": "markdown",
      "source": [
        "# Softmax function"
      ],
      "metadata": {
        "id": "ukWRtPXJ2t1F"
      }
    },
    {
      "cell_type": "code",
      "source": [
        "def hypothesis(x_data) :\n",
        "  softmax = tf.nn.softmax(tf.matmul(x_data, W) + b)\n",
        "  return softmax\n",
        "print(hypothesis(x_data))"
      ],
      "metadata": {
        "colab": {
          "base_uri": "https://localhost:8080/"
        },
        "id": "X-Ekhle0vWlV",
        "outputId": "a0ec7cbd-9255-44d7-8ab4-1f7a9262ecca"
      },
      "execution_count": null,
      "outputs": [
        {
          "output_type": "stream",
          "name": "stdout",
          "text": [
            "tf.Tensor(\n",
            "[[2.6115654e-03 3.0526164e-04 9.9708307e-01]\n",
            " [5.1196496e-04 3.3310187e-08 9.9948794e-01]\n",
            " [1.9318848e-03 6.5735856e-10 9.9806809e-01]\n",
            " [3.8963979e-05 2.0478856e-14 9.9996096e-01]\n",
            " [9.1874064e-09 1.0007226e-12 9.9999994e-01]\n",
            " [3.7177328e-03 4.9338517e-10 9.9628228e-01]\n",
            " [6.6248433e-08 1.2685539e-13 9.9999982e-01]\n",
            " [5.0616271e-09 1.3120353e-15 9.9999994e-01]], shape=(8, 3), dtype=float32)\n"
          ]
        }
      ]
    },
    {
      "cell_type": "markdown",
      "source": [
        "# Cost Function"
      ],
      "metadata": {
        "id": "EKrrOqBD2EhS"
      }
    },
    {
      "cell_type": "code",
      "source": [
        "def cost_fn(X, Y):\n",
        " logits = hypothesis(X)\n",
        " cost = -tf.reduce_sum(Y * tf.math.log(logits), axis=1)\n",
        " # print(cost)\n",
        " cost_mean = tf.reduce_mean(cost)\n",
        " return cost_mean\n",
        "\n",
        "print(cost_fn(x_data, y_data))"
      ],
      "metadata": {
        "colab": {
          "base_uri": "https://localhost:8080/"
        },
        "id": "6nx5f7sVv4UA",
        "outputId": "a1126897-9052-4522-a97a-9da36319eadf"
      },
      "execution_count": null,
      "outputs": [
        {
          "output_type": "stream",
          "name": "stdout",
          "text": [
            "tf.Tensor(14.527027, shape=(), dtype=float32)\n"
          ]
        }
      ]
    },
    {
      "cell_type": "markdown",
      "source": [
        "# Gradient Function"
      ],
      "metadata": {
        "id": "RPdNPJzb2A9i"
      }
    },
    {
      "cell_type": "code",
      "source": [
        "def grad_fn(X, Y):\n",
        " with tf.GradientTape() as tape:\n",
        "  cost = cost_fn(X, Y)\n",
        "  grads = tape.gradient(cost, variables)\n",
        "  return grads\n",
        "\n",
        "print(grad_fn(x_data, y_data))"
      ],
      "metadata": {
        "colab": {
          "base_uri": "https://localhost:8080/"
        },
        "id": "dejYVEcox_Kt",
        "outputId": "14a28201-0ffd-45cd-fe3a-04056af4ae70"
      },
      "execution_count": null,
      "outputs": [
        {
          "output_type": "stream",
          "name": "stdout",
          "text": [
            "[<tf.Tensor: shape=(4, 3), dtype=float32, numpy=\n",
            "array([[-0.24833688, -0.7499618 ,  0.9982986 ],\n",
            "       [-1.6231072 , -1.2499237 ,  2.8730307 ],\n",
            "       [-1.6214089 , -1.8749617 ,  3.4963706 ],\n",
            "       [-1.6207669 , -1.9999617 ,  3.6207283 ]], dtype=float32)>, <tf.Tensor: shape=(3,), dtype=float32, numpy=array([-0.24889846, -0.37496182,  0.6238602 ], dtype=float32)>]\n"
          ]
        }
      ]
    },
    {
      "cell_type": "markdown",
      "source": [
        "# train"
      ],
      "metadata": {
        "id": "bWWSxAyD18iM"
      }
    },
    {
      "cell_type": "code",
      "source": [
        "def fit(X, Y, epochs=2000, verbose=100):\n",
        " optimizer = tf.keras.optimizers.SGD(learning_rate=0.1)\n",
        "\n",
        " for i in range(epochs):\n",
        "  grads = grad_fn(X, Y)\n",
        "  optimizer.apply_gradients(zip(grads, variables))\n",
        "\n",
        "  if (i==0) | ((i+1)%verbose==0):\n",
        "    print('Loss at epoch %.3d: %f' %(i+1, cost_fn(X,Y).numpy()))\n",
        "\n",
        "fit(x_data, y_data, 2000, 100)"
      ],
      "metadata": {
        "colab": {
          "base_uri": "https://localhost:8080/"
        },
        "id": "28ikblDRzkTE",
        "outputId": "f650a42d-5a93-4a7c-8d28-b34665c649ff"
      },
      "execution_count": null,
      "outputs": [
        {
          "output_type": "stream",
          "name": "stdout",
          "text": [
            "Loss at epoch 001: 0.123501\n",
            "Loss at epoch 100: 0.120158\n",
            "Loss at epoch 200: 0.116953\n",
            "Loss at epoch 300: 0.113910\n",
            "Loss at epoch 400: 0.111016\n",
            "Loss at epoch 500: 0.108261\n",
            "Loss at epoch 600: 0.105636\n",
            "Loss at epoch 700: 0.103132\n",
            "Loss at epoch 800: 0.100740\n",
            "Loss at epoch 900: 0.098453\n",
            "Loss at epoch 1000: 0.096265\n",
            "Loss at epoch 1100: 0.094170\n",
            "Loss at epoch 1200: 0.092162\n",
            "Loss at epoch 1300: 0.090235\n",
            "Loss at epoch 1400: 0.088386\n",
            "Loss at epoch 1500: 0.086608\n",
            "Loss at epoch 1600: 0.084899\n",
            "Loss at epoch 1700: 0.083255\n",
            "Loss at epoch 1800: 0.081672\n",
            "Loss at epoch 1900: 0.080146\n",
            "Loss at epoch 2000: 0.078675\n"
          ]
        }
      ]
    },
    {
      "cell_type": "markdown",
      "source": [
        "# prediction"
      ],
      "metadata": {
        "id": "3BGB7iSp13xo"
      }
    },
    {
      "cell_type": "code",
      "source": [
        "a = hypothesis(x_data)\n",
        "print(a)\n",
        "print(tf.argmax(a, 1))\n",
        "print(tf.argmax(y_data, 1)) # matches with y_data"
      ],
      "metadata": {
        "colab": {
          "base_uri": "https://localhost:8080/"
        },
        "id": "lfnfjXuw1g1g",
        "outputId": "aaa04192-5602-4807-b880-6e5435f04858"
      },
      "execution_count": null,
      "outputs": [
        {
          "output_type": "stream",
          "name": "stdout",
          "text": [
            "tf.Tensor(\n",
            "[[3.6177348e-09 3.2240230e-05 9.9996775e-01]\n",
            " [3.5292879e-04 3.9862838e-02 9.5978415e-01]\n",
            " [1.5173010e-10 8.2513489e-02 9.1748655e-01]\n",
            " [6.3073109e-08 9.2534161e-01 7.4658245e-02]\n",
            " [1.3789122e-01 8.5634929e-01 5.7594753e-03]\n",
            " [7.3013373e-02 9.2698663e-01 4.1985544e-09]\n",
            " [8.4432364e-01 1.5567626e-01 1.4789474e-07]\n",
            " [9.7579849e-01 2.4201471e-02 2.8374919e-10]], shape=(8, 3), dtype=float32)\n",
            "tf.Tensor([2 2 2 1 1 1 0 0], shape=(8,), dtype=int64)\n",
            "tf.Tensor([2 2 2 1 1 1 0 0], shape=(8,), dtype=int64)\n"
          ]
        }
      ]
    }
  ]
}